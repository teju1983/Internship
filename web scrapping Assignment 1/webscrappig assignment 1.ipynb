{
 "cells": [
  {
   "cell_type": "code",
   "execution_count": null,
   "id": "9aa5c8b1",
   "metadata": {},
   "outputs": [],
   "source": []
  },
  {
   "cell_type": "markdown",
   "id": "336cd77a",
   "metadata": {},
   "source": [
    "***####Answer No1####***"
   ]
  },
  {
   "cell_type": "code",
   "execution_count": null,
   "id": "1bf6aac0",
   "metadata": {},
   "outputs": [],
   "source": [
    "from bs4 import BeautifulSoup"
   ]
  },
  {
   "cell_type": "code",
   "execution_count": null,
   "id": "005c5917",
   "metadata": {},
   "outputs": [],
   "source": [
    "import requests"
   ]
  },
  {
   "cell_type": "code",
   "execution_count": null,
   "id": "1a2a6002",
   "metadata": {},
   "outputs": [],
   "source": [
    "page=requests.get('https://en.wikipedia.org/wiki/Main_Page')"
   ]
  },
  {
   "cell_type": "code",
   "execution_count": null,
   "id": "fb0e7a89",
   "metadata": {},
   "outputs": [],
   "source": [
    "soup=BeautifulSoup(page.content)"
   ]
  },
  {
   "cell_type": "code",
   "execution_count": null,
   "id": "b0d1277e",
   "metadata": {},
   "outputs": [],
   "source": [
    "soup"
   ]
  },
  {
   "cell_type": "code",
   "execution_count": null,
   "id": "5800844a",
   "metadata": {},
   "outputs": [],
   "source": [
    "header_tags=[]\n",
    "for i in soup.find_all('a',class_=\"extiw\"):\n",
    "    header_tags.append(i.text)"
   ]
  },
  {
   "cell_type": "code",
   "execution_count": null,
   "id": "7c4f7e0b",
   "metadata": {},
   "outputs": [],
   "source": [
    "header_tags"
   ]
  },
  {
   "cell_type": "code",
   "execution_count": null,
   "id": "cd88e4a8",
   "metadata": {},
   "outputs": [],
   "source": [
    "import pandas as pd"
   ]
  },
  {
   "cell_type": "code",
   "execution_count": null,
   "id": "25c14159",
   "metadata": {},
   "outputs": [],
   "source": [
    "df=pd.DataFrame(header_tags)"
   ]
  },
  {
   "cell_type": "code",
   "execution_count": null,
   "id": "d49b6cfb",
   "metadata": {},
   "outputs": [],
   "source": [
    "df"
   ]
  },
  {
   "cell_type": "markdown",
   "id": "e485e07c",
   "metadata": {},
   "source": [
    "***###Answer No2###***"
   ]
  },
  {
   "cell_type": "code",
   "execution_count": null,
   "id": "969db51a",
   "metadata": {},
   "outputs": [],
   "source": [
    "import requests\n",
    "from bs4 import BeautifulSoup"
   ]
  },
  {
   "cell_type": "code",
   "execution_count": null,
   "id": "541f47b2",
   "metadata": {},
   "outputs": [],
   "source": [
    "page2=requests.get('https://www.imdb.com/chart/top/?ref_=nv_mv_250')"
   ]
  },
  {
   "cell_type": "code",
   "execution_count": null,
   "id": "47e94deb",
   "metadata": {},
   "outputs": [],
   "source": [
    "soup2=BeautifulSoup(page2.content)"
   ]
  },
  {
   "cell_type": "code",
   "execution_count": null,
   "id": "9864f7b4",
   "metadata": {
    "scrolled": false
   },
   "outputs": [],
   "source": [
    "soup2"
   ]
  },
  {
   "cell_type": "code",
   "execution_count": null,
   "id": "03c1ed68",
   "metadata": {},
   "outputs": [],
   "source": [
    "movie_name=[]\n",
    "year_of_release=[]\n",
    "for i in soup2.find_all('td',class_=\"titleColumn\"):\n",
    "    movie_name.append(i.text.split('\\n')[2])\n",
    "    year_of_release.append(i.text.split('\\n')[3])"
   ]
  },
  {
   "cell_type": "code",
   "execution_count": null,
   "id": "dcf733eb",
   "metadata": {},
   "outputs": [],
   "source": [
    "rating=[]\n",
    "for i in soup2.find_all('td',class_=\"ratingColumn imdbRating\"):\n",
    "    rating.append(i.text.split('\\n')[1])"
   ]
  },
  {
   "cell_type": "code",
   "execution_count": null,
   "id": "74cb6b50",
   "metadata": {},
   "outputs": [],
   "source": [
    "import pandas as pd"
   ]
  },
  {
   "cell_type": "code",
   "execution_count": null,
   "id": "abe94182",
   "metadata": {},
   "outputs": [],
   "source": [
    "IMDB_TOP250_MOVIES=pd.DataFrame({'Movie_Name':movie_name,'Rating':rating,'Year_Of_Release':year_of_release})"
   ]
  },
  {
   "cell_type": "code",
   "execution_count": null,
   "id": "b02e80ad",
   "metadata": {
    "scrolled": true
   },
   "outputs": [],
   "source": [
    "IMDB_TOP250_MOVIES"
   ]
  },
  {
   "cell_type": "code",
   "execution_count": null,
   "id": "1dd9c121",
   "metadata": {},
   "outputs": [],
   "source": []
  },
  {
   "cell_type": "markdown",
   "id": "8d38354a",
   "metadata": {},
   "source": [
    "***###Answer No3###***"
   ]
  },
  {
   "cell_type": "code",
   "execution_count": null,
   "id": "4a275051",
   "metadata": {},
   "outputs": [],
   "source": [
    "import requests\n",
    "from bs4 import BeautifulSoup"
   ]
  },
  {
   "cell_type": "code",
   "execution_count": null,
   "id": "c75c2fa3",
   "metadata": {},
   "outputs": [],
   "source": [
    "page3=requests.get('https://www.imdb.com/india/top-rated-indian-movies/?pf_rd_m=A2FGELUUNOQJNL&pf_rd_p=461131e5-5af0-4e50-bee2-223fad1e00ca&pf_rd_r=8DKCSGF1ZM766EXF6T16&pf_rd_s=center-1&pf_rd_t=60601&pf_rd_i=india.toprated&ref_=fea_india_ss_toprated_india_tr_india250_hd')"
   ]
  },
  {
   "cell_type": "code",
   "execution_count": null,
   "id": "75a28d44",
   "metadata": {},
   "outputs": [],
   "source": [
    "soup3=BeautifulSoup(page3.content)"
   ]
  },
  {
   "cell_type": "code",
   "execution_count": null,
   "id": "6f639874",
   "metadata": {
    "scrolled": false
   },
   "outputs": [],
   "source": [
    "soup3"
   ]
  },
  {
   "cell_type": "code",
   "execution_count": null,
   "id": "01c7cd3e",
   "metadata": {},
   "outputs": [],
   "source": [
    "indian_movie=[]\n",
    "yr_of_rel=[]\n",
    "ind_rating=[]\n",
    "a=0\n",
    "if a<100:\n",
    "    for i in soup3.find_all('td',class_=\"titleColumn\"):\n",
    "        indian_movie.append(i.text.split('\\n')[2])\n",
    "        yr_of_rel.append(i.text.split('\\n')[3])\n",
    "    for i in soup3.find_all('td',class_=\"ratingColumn imdbRating\"):\n",
    "        ind_rating.append(i.text.split('\\n')[1])\n",
    "    \n",
    "    a=a+1\n",
    "\n"
   ]
  },
  {
   "cell_type": "code",
   "execution_count": null,
   "id": "c64bacac",
   "metadata": {},
   "outputs": [],
   "source": [
    "IMDB_TOP_Indian_MOVIES=pd.DataFrame({'Indian_Movie_Name':indian_movie,'Rating':ind_rating,'Year_Of_Release':yr_of_rel})"
   ]
  },
  {
   "cell_type": "code",
   "execution_count": null,
   "id": "67fe208b",
   "metadata": {},
   "outputs": [],
   "source": [
    "IMDB_TOP_Indian_MOVIES"
   ]
  },
  {
   "cell_type": "code",
   "execution_count": null,
   "id": "92f7ed4b",
   "metadata": {},
   "outputs": [],
   "source": []
  },
  {
   "cell_type": "markdown",
   "id": "fdfe9430",
   "metadata": {},
   "source": [
    "***###Answer No4###***"
   ]
  },
  {
   "cell_type": "code",
   "execution_count": null,
   "id": "0fb8ccd2",
   "metadata": {},
   "outputs": [],
   "source": [
    "import requests\n",
    "from bs4 import BeautifulSoup"
   ]
  },
  {
   "cell_type": "code",
   "execution_count": null,
   "id": "36ebc0df",
   "metadata": {},
   "outputs": [],
   "source": [
    "page4=requests.get('https://presidentofindia.nic.in/former-presidents.htm')"
   ]
  },
  {
   "cell_type": "code",
   "execution_count": null,
   "id": "3e1c35cd",
   "metadata": {},
   "outputs": [],
   "source": [
    "soup4=BeautifulSoup(page4.content)"
   ]
  },
  {
   "cell_type": "code",
   "execution_count": null,
   "id": "302ddb5f",
   "metadata": {},
   "outputs": [],
   "source": [
    "soup4.find_all('h3')"
   ]
  },
  {
   "cell_type": "code",
   "execution_count": null,
   "id": "9a27fb36",
   "metadata": {},
   "outputs": [],
   "source": [
    "former_presidents=[]\n",
    "for i in soup4.find_all('h3'):\n",
    "    former_presidents.append(i.text)\n"
   ]
  },
  {
   "cell_type": "code",
   "execution_count": null,
   "id": "28cf81e9",
   "metadata": {},
   "outputs": [],
   "source": [
    "term=[]\n",
    "for i in soup4.find_all('p'):\n",
    "    term.append(i.text)"
   ]
  },
  {
   "cell_type": "code",
   "execution_count": null,
   "id": "532adabb",
   "metadata": {},
   "outputs": [],
   "source": [
    "import pandas as pd "
   ]
  },
  {
   "cell_type": "code",
   "execution_count": null,
   "id": "be5ebf3c",
   "metadata": {},
   "outputs": [],
   "source": [
    "term"
   ]
  },
  {
   "cell_type": "code",
   "execution_count": null,
   "id": "60b50f81",
   "metadata": {},
   "outputs": [],
   "source": [
    "len(term)"
   ]
  },
  {
   "cell_type": "code",
   "execution_count": null,
   "id": "42893e7f",
   "metadata": {},
   "outputs": [],
   "source": [
    "term.pop()"
   ]
  },
  {
   "cell_type": "code",
   "execution_count": null,
   "id": "186854e2",
   "metadata": {},
   "outputs": [],
   "source": [
    "term"
   ]
  },
  {
   "cell_type": "code",
   "execution_count": null,
   "id": "853f782a",
   "metadata": {},
   "outputs": [],
   "source": [
    "term.pop()"
   ]
  },
  {
   "cell_type": "code",
   "execution_count": null,
   "id": "6b3c3e83",
   "metadata": {},
   "outputs": [],
   "source": [
    "term.pop()"
   ]
  },
  {
   "cell_type": "code",
   "execution_count": null,
   "id": "aa1adcb3",
   "metadata": {},
   "outputs": [],
   "source": [
    "term.pop(1)"
   ]
  },
  {
   "cell_type": "code",
   "execution_count": null,
   "id": "2b54610a",
   "metadata": {},
   "outputs": [],
   "source": [
    "term.pop((2))"
   ]
  },
  {
   "cell_type": "code",
   "execution_count": null,
   "id": "c6c168d5",
   "metadata": {},
   "outputs": [],
   "source": [
    "term.pop(3)"
   ]
  },
  {
   "cell_type": "code",
   "execution_count": null,
   "id": "1053a83f",
   "metadata": {},
   "outputs": [],
   "source": [
    "term.pop(4)"
   ]
  },
  {
   "cell_type": "code",
   "execution_count": null,
   "id": "56517088",
   "metadata": {},
   "outputs": [],
   "source": [
    "len(term)"
   ]
  },
  {
   "cell_type": "code",
   "execution_count": null,
   "id": "bd4319eb",
   "metadata": {},
   "outputs": [],
   "source": [
    "len(former_presidents)"
   ]
  },
  {
   "cell_type": "code",
   "execution_count": null,
   "id": "03e2729f",
   "metadata": {},
   "outputs": [],
   "source": [
    "Former_Indian_Presidents_OfficeTerm=pd.DataFrame({\"Former_President_Name\":former_presidents,\"Office_Term\":term})"
   ]
  },
  {
   "cell_type": "code",
   "execution_count": null,
   "id": "946ff1be",
   "metadata": {},
   "outputs": [],
   "source": [
    "Former_Indian_Presidents_OfficeTerm"
   ]
  },
  {
   "cell_type": "code",
   "execution_count": null,
   "id": "afe0be51",
   "metadata": {},
   "outputs": [],
   "source": []
  },
  {
   "cell_type": "markdown",
   "id": "58772c73",
   "metadata": {},
   "source": [
    "***###Answer No5(a)###***"
   ]
  },
  {
   "cell_type": "code",
   "execution_count": null,
   "id": "f2ca6254",
   "metadata": {},
   "outputs": [],
   "source": [
    "import requests\n",
    "from bs4 import BeautifulSoup"
   ]
  },
  {
   "cell_type": "code",
   "execution_count": null,
   "id": "19e80be9",
   "metadata": {},
   "outputs": [],
   "source": [
    "page5_a=requests.get('https://www.icc-cricket.com/rankings/womens/team-rankings/odi')"
   ]
  },
  {
   "cell_type": "code",
   "execution_count": null,
   "id": "c8d4e491",
   "metadata": {},
   "outputs": [],
   "source": [
    "soup5_a=BeautifulSoup(page5_a.content)"
   ]
  },
  {
   "cell_type": "code",
   "execution_count": null,
   "id": "4f6fa1c3",
   "metadata": {},
   "outputs": [],
   "source": [
    "team_name=[]\n",
    "for i in soup5_a.find_all('span', class_=\"u-hide-phablet\"):\n",
    "    team_name.append(i.text)"
   ]
  },
  {
   "cell_type": "code",
   "execution_count": null,
   "id": "136f8e92",
   "metadata": {},
   "outputs": [],
   "source": [
    "team_name"
   ]
  },
  {
   "cell_type": "code",
   "execution_count": null,
   "id": "a581c269",
   "metadata": {},
   "outputs": [],
   "source": [
    "team_points=[]\n",
    "for i in soup5_a.find_all('td', class_=\"rankings-block__banner--points\"):\n",
    "    team_points.append(i.text)"
   ]
  },
  {
   "cell_type": "code",
   "execution_count": null,
   "id": "6437eb18",
   "metadata": {},
   "outputs": [],
   "source": [
    "team_points"
   ]
  },
  {
   "cell_type": "code",
   "execution_count": null,
   "id": "428327eb",
   "metadata": {},
   "outputs": [],
   "source": [
    "team_points_rest=[]\n",
    "for i in soup5_a.find_all('td', class_=\"table-body__cell u-center-text\"):\n",
    "    team_points_rest.append(i.text)\n",
    "   "
   ]
  },
  {
   "cell_type": "code",
   "execution_count": null,
   "id": "e857629f",
   "metadata": {},
   "outputs": [],
   "source": [
    "team_points_rest"
   ]
  },
  {
   "cell_type": "code",
   "execution_count": null,
   "id": "bcadc33d",
   "metadata": {},
   "outputs": [],
   "source": [
    "team_points_rest_1=[]\n",
    "int(a)\n",
    "a=1\n",
    "\n",
    "for i in team_points_rest:\n",
    "    team_points_rest_1.append(team_points_rest[a])\n",
    "    a+=2  \n",
    "    if a==25:\n",
    "        break\n",
    "\n"
   ]
  },
  {
   "cell_type": "code",
   "execution_count": null,
   "id": "a463cc7f",
   "metadata": {},
   "outputs": [],
   "source": [
    "team_points_rest_1"
   ]
  },
  {
   "cell_type": "code",
   "execution_count": null,
   "id": "6983edde",
   "metadata": {},
   "outputs": [],
   "source": [
    "all_team_points=team_points+team_points_rest_1"
   ]
  },
  {
   "cell_type": "code",
   "execution_count": null,
   "id": "130b0cce",
   "metadata": {},
   "outputs": [],
   "source": [
    "all_team_points"
   ]
  },
  {
   "cell_type": "code",
   "execution_count": null,
   "id": "001168a0",
   "metadata": {},
   "outputs": [],
   "source": [
    "len(team_name)\n"
   ]
  },
  {
   "cell_type": "code",
   "execution_count": null,
   "id": "2d5205a8",
   "metadata": {},
   "outputs": [],
   "source": [
    "len(all_team_points)"
   ]
  },
  {
   "cell_type": "code",
   "execution_count": null,
   "id": "3004762a",
   "metadata": {},
   "outputs": [],
   "source": [
    "team_rating=[]\n",
    "for i in soup5_a.find_all('td', class_=\"rankings-block__banner--rating u-text-right\"):\n",
    "    team_rating.append(i.text.split('\\n')[1].strip())"
   ]
  },
  {
   "cell_type": "code",
   "execution_count": null,
   "id": "18c0b41b",
   "metadata": {},
   "outputs": [],
   "source": [
    "team_rating"
   ]
  },
  {
   "cell_type": "code",
   "execution_count": null,
   "id": "e3056106",
   "metadata": {},
   "outputs": [],
   "source": [
    "team_rating_rest=[]\n",
    "for i in soup5_a.find_all('td', class_=\"table-body__cell u-text-right rating\"):\n",
    "    team_rating_rest.append(i.text)"
   ]
  },
  {
   "cell_type": "code",
   "execution_count": null,
   "id": "1ab1aee7",
   "metadata": {},
   "outputs": [],
   "source": [
    "team_rating_rest"
   ]
  },
  {
   "cell_type": "code",
   "execution_count": null,
   "id": "e2f74988",
   "metadata": {},
   "outputs": [],
   "source": [
    "all_team_rating=team_rating+team_rating_rest"
   ]
  },
  {
   "cell_type": "code",
   "execution_count": null,
   "id": "44b3c927",
   "metadata": {},
   "outputs": [],
   "source": [
    "all_team_rating"
   ]
  },
  {
   "cell_type": "code",
   "execution_count": null,
   "id": "441b53c3",
   "metadata": {},
   "outputs": [],
   "source": [
    "len(all_team_rating)"
   ]
  },
  {
   "cell_type": "code",
   "execution_count": null,
   "id": "ab705dfd",
   "metadata": {},
   "outputs": [],
   "source": [
    "final_team_name=team_name[0:10]\n",
    "final_all_team_points=all_team_points[0:10]\n",
    "final_all_team_rating=all_team_rating[0:10]"
   ]
  },
  {
   "cell_type": "code",
   "execution_count": null,
   "id": "8cc804ad",
   "metadata": {},
   "outputs": [],
   "source": [
    "import pandas as pd"
   ]
  },
  {
   "cell_type": "code",
   "execution_count": null,
   "id": "e81b1f6c",
   "metadata": {},
   "outputs": [],
   "source": [
    "Top_10_ODI_teams=pd.DataFrame({'Team_Name':final_team_name,'Points':final_all_team_points,'Rating':final_all_team_rating})"
   ]
  },
  {
   "cell_type": "code",
   "execution_count": null,
   "id": "fc76ad6b",
   "metadata": {},
   "outputs": [],
   "source": [
    "Top_10_ODI_teams"
   ]
  },
  {
   "cell_type": "code",
   "execution_count": null,
   "id": "a16ee230",
   "metadata": {},
   "outputs": [],
   "source": []
  },
  {
   "cell_type": "markdown",
   "id": "f23a0017",
   "metadata": {},
   "source": [
    "***###Answer No5(b)###***"
   ]
  },
  {
   "cell_type": "code",
   "execution_count": null,
   "id": "27e353af",
   "metadata": {},
   "outputs": [],
   "source": [
    "import requests\n",
    "from bs4 import BeautifulSoup\n",
    "import pandas as pd"
   ]
  },
  {
   "cell_type": "code",
   "execution_count": null,
   "id": "6737d062",
   "metadata": {},
   "outputs": [],
   "source": [
    "page5_b=requests.get('https://www.icc-cricket.com/rankings/mens/player-rankings/t20i/batting')"
   ]
  },
  {
   "cell_type": "code",
   "execution_count": null,
   "id": "696fc0d7",
   "metadata": {},
   "outputs": [],
   "source": [
    "soup5_b=BeautifulSoup(page5_b.content)"
   ]
  },
  {
   "cell_type": "code",
   "execution_count": null,
   "id": "3c614e80",
   "metadata": {},
   "outputs": [],
   "source": [
    "first_batsman_name=[]\n",
    "for i in soup5_b.find_all('div',class_=\"rankings-block__banner--name-large\"):\n",
    "    first_batsman_name.append(i.text)\n",
    "    \n"
   ]
  },
  {
   "cell_type": "code",
   "execution_count": null,
   "id": "31e20318",
   "metadata": {},
   "outputs": [],
   "source": [
    "first_batsman_name"
   ]
  },
  {
   "cell_type": "code",
   "execution_count": null,
   "id": "e5360648",
   "metadata": {},
   "outputs": [],
   "source": [
    "rest_batsmen_names=[]\n",
    "for i in soup5_b.find_all('td',class_=\"table-body__cell rankings-table__name name\"):\n",
    "    rest_batsmen_names.append(i.text.split(\"\\n\")[1])"
   ]
  },
  {
   "cell_type": "code",
   "execution_count": null,
   "id": "a98a3694",
   "metadata": {},
   "outputs": [],
   "source": [
    "rest_batsmen_names"
   ]
  },
  {
   "cell_type": "code",
   "execution_count": null,
   "id": "688b47c0",
   "metadata": {},
   "outputs": [],
   "source": [
    "len(rest_batsmen_names)"
   ]
  },
  {
   "cell_type": "code",
   "execution_count": null,
   "id": "f8a9fba4",
   "metadata": {},
   "outputs": [],
   "source": [
    "top_nine_batsmen=rest_batsmen_names[0:9]"
   ]
  },
  {
   "cell_type": "code",
   "execution_count": null,
   "id": "c9cc301d",
   "metadata": {},
   "outputs": [],
   "source": [
    "top_nine_batsmen"
   ]
  },
  {
   "cell_type": "code",
   "execution_count": null,
   "id": "cf382f05",
   "metadata": {},
   "outputs": [],
   "source": [
    "len(top_nine_batsmen)"
   ]
  },
  {
   "cell_type": "code",
   "execution_count": null,
   "id": "3c721bf1",
   "metadata": {},
   "outputs": [],
   "source": [
    "final_top_ten_batsmen=first_batsman_name+top_nine_batsmen"
   ]
  },
  {
   "cell_type": "code",
   "execution_count": null,
   "id": "37b6baae",
   "metadata": {},
   "outputs": [],
   "source": [
    "final_top_ten_batsmen"
   ]
  },
  {
   "cell_type": "code",
   "execution_count": null,
   "id": "4e7a4dee",
   "metadata": {},
   "outputs": [],
   "source": [
    "first_team_name\n",
    "h=soup5_b.find('div',class_=\"rankings-block__banner--nationality\")"
   ]
  },
  {
   "cell_type": "code",
   "execution_count": null,
   "id": "b154cf16",
   "metadata": {},
   "outputs": [],
   "source": [
    "h"
   ]
  },
  {
   "cell_type": "code",
   "execution_count": null,
   "id": "d89d1526",
   "metadata": {},
   "outputs": [],
   "source": [
    "h1=h.text.split(\"\\n\")[2]"
   ]
  },
  {
   "cell_type": "code",
   "execution_count": null,
   "id": "45228a0e",
   "metadata": {},
   "outputs": [],
   "source": [
    "first_team_name=[h1]"
   ]
  },
  {
   "cell_type": "code",
   "execution_count": null,
   "id": "a4f53a64",
   "metadata": {},
   "outputs": [],
   "source": [
    "first_team_name"
   ]
  },
  {
   "cell_type": "code",
   "execution_count": null,
   "id": "cfd4b25a",
   "metadata": {},
   "outputs": [],
   "source": [
    "rest_team_names=[]\n",
    "for i in soup5_b.find_all('span',class_=\"table-body__logo-text\"):\n",
    "    rest_team_names.append(i.text)"
   ]
  },
  {
   "cell_type": "code",
   "execution_count": null,
   "id": "7de229f6",
   "metadata": {},
   "outputs": [],
   "source": [
    "final_rest_team_names=rest_team_names[0:9]"
   ]
  },
  {
   "cell_type": "code",
   "execution_count": null,
   "id": "fe04e613",
   "metadata": {},
   "outputs": [],
   "source": [
    "len(final_rest_team_names)"
   ]
  },
  {
   "cell_type": "code",
   "execution_count": null,
   "id": "c59904bb",
   "metadata": {},
   "outputs": [],
   "source": [
    "top_ten_batsmen_teams=first_team_name+final_rest_team_names"
   ]
  },
  {
   "cell_type": "code",
   "execution_count": null,
   "id": "823ab886",
   "metadata": {},
   "outputs": [],
   "source": [
    "top_ten_batsmen_teams"
   ]
  },
  {
   "cell_type": "code",
   "execution_count": null,
   "id": "dec6a54b",
   "metadata": {},
   "outputs": [],
   "source": [
    "j=soup5_b.find('div',class_=\"rankings-block__banner--rating\")\n"
   ]
  },
  {
   "cell_type": "code",
   "execution_count": null,
   "id": "770edbd0",
   "metadata": {},
   "outputs": [],
   "source": [
    "j1=j.text"
   ]
  },
  {
   "cell_type": "code",
   "execution_count": null,
   "id": "1d0fee39",
   "metadata": {},
   "outputs": [],
   "source": [
    "first_batsman_rating=[j1]"
   ]
  },
  {
   "cell_type": "code",
   "execution_count": null,
   "id": "be60574a",
   "metadata": {},
   "outputs": [],
   "source": [
    "first_batsman_rating"
   ]
  },
  {
   "cell_type": "code",
   "execution_count": null,
   "id": "4987ebcf",
   "metadata": {},
   "outputs": [],
   "source": [
    "rest_batsmen_rating=[]\n",
    "for i in soup5_b.find_all('td',class_=\"table-body__cell rating\"):\n",
    "    rest_batsmen_rating.append(i.text)"
   ]
  },
  {
   "cell_type": "code",
   "execution_count": null,
   "id": "7080d8f7",
   "metadata": {},
   "outputs": [],
   "source": [
    "len(rest_batsmen_rating)"
   ]
  },
  {
   "cell_type": "code",
   "execution_count": null,
   "id": "3f45ee2b",
   "metadata": {},
   "outputs": [],
   "source": [
    "top_nine_batsmen=rest_batsmen_rating[0:9]\n",
    "top_ten_batsmen_rating=first_batsman_rating+top_nine_batsmen"
   ]
  },
  {
   "cell_type": "code",
   "execution_count": null,
   "id": "6dcd657a",
   "metadata": {},
   "outputs": [],
   "source": [
    "top_ten_batsmen_rating"
   ]
  },
  {
   "cell_type": "code",
   "execution_count": null,
   "id": "4e5eb2e6",
   "metadata": {},
   "outputs": [],
   "source": [
    "top_ten_batsmen_team_rating=pd.DataFrame({'Top_Ten_Batsmen':final_top_ten_batsmen,'Teams_Names':top_ten_batsmen_teams,'Top_Ten_Rating':top_ten_batsmen_rating})"
   ]
  },
  {
   "cell_type": "code",
   "execution_count": null,
   "id": "5f012d4a",
   "metadata": {},
   "outputs": [],
   "source": [
    "top_ten_batsmen_team_rating"
   ]
  },
  {
   "cell_type": "code",
   "execution_count": null,
   "id": "0e8c2d2e",
   "metadata": {},
   "outputs": [],
   "source": []
  },
  {
   "cell_type": "markdown",
   "id": "f024db8c",
   "metadata": {},
   "source": [
    "***###Answer No5(c)###***"
   ]
  },
  {
   "cell_type": "code",
   "execution_count": null,
   "id": "45f369bb",
   "metadata": {},
   "outputs": [],
   "source": [
    "import requests\n",
    "from bs4 import BeautifulSoup\n",
    "import pandas as pd"
   ]
  },
  {
   "cell_type": "code",
   "execution_count": null,
   "id": "fafb5852",
   "metadata": {},
   "outputs": [],
   "source": [
    "page5_c=requests.get('https://www.icc-cricket.com/rankings/mens/player-rankings/odi/bowling')"
   ]
  },
  {
   "cell_type": "code",
   "execution_count": null,
   "id": "c5c47606",
   "metadata": {},
   "outputs": [],
   "source": [
    "soup5_c=BeautifulSoup(page5_c.content)"
   ]
  },
  {
   "cell_type": "code",
   "execution_count": null,
   "id": "5192f57c",
   "metadata": {},
   "outputs": [],
   "source": [
    "first_bowler_name=[]\n",
    "for i in soup5_c.find_all('div',class_=\"rankings-block__banner--name-large\"):\n",
    "    first_bowler_name.append(i.text)"
   ]
  },
  {
   "cell_type": "code",
   "execution_count": null,
   "id": "291cc33d",
   "metadata": {},
   "outputs": [],
   "source": [
    "first_bowler_name"
   ]
  },
  {
   "cell_type": "code",
   "execution_count": null,
   "id": "bb36a318",
   "metadata": {},
   "outputs": [],
   "source": [
    "rest_bowler_name=[]\n",
    "for i in soup5_c.find_all('td',class_=\"table-body__cell rankings-table__name name\"):\n",
    "    rest_bowler_name.append(i.text.split(\"\\n\")[1])"
   ]
  },
  {
   "cell_type": "code",
   "execution_count": null,
   "id": "30992f42",
   "metadata": {},
   "outputs": [],
   "source": [
    "top_nine_bowlers_names=rest_bowler_name[0:9]"
   ]
  },
  {
   "cell_type": "code",
   "execution_count": null,
   "id": "9b3c141a",
   "metadata": {},
   "outputs": [],
   "source": [
    "top_nine_bowlers_names"
   ]
  },
  {
   "cell_type": "code",
   "execution_count": null,
   "id": "885d6e35",
   "metadata": {},
   "outputs": [],
   "source": [
    "top_ten_odi_bowlers=first_bowler_name+top_nine_bowlers_names"
   ]
  },
  {
   "cell_type": "code",
   "execution_count": null,
   "id": "bf05dc0c",
   "metadata": {},
   "outputs": [],
   "source": [
    "top_ten_odi_bowlers"
   ]
  },
  {
   "cell_type": "code",
   "execution_count": null,
   "id": "67d48060",
   "metadata": {},
   "outputs": [],
   "source": [
    "banner_team_name=[]\n",
    "for i in soup5_c.find_all('div',class_=\"rankings-block__banner--nationality\"):\n",
    "    banner_team_name.append(i.text.split(\"\\n\")[2])"
   ]
  },
  {
   "cell_type": "code",
   "execution_count": null,
   "id": "2c0c2a17",
   "metadata": {},
   "outputs": [],
   "source": [
    "banner_team_name"
   ]
  },
  {
   "cell_type": "code",
   "execution_count": null,
   "id": "9309a7e0",
   "metadata": {},
   "outputs": [],
   "source": [
    "rest_nine_bowling_teams=[]\n",
    "for i in soup5_c.find_all('span',class_=\"table-body__logo-text\"):\n",
    "    rest_nine_bowling_teams.append(i.text)"
   ]
  },
  {
   "cell_type": "code",
   "execution_count": null,
   "id": "701b2dd7",
   "metadata": {},
   "outputs": [],
   "source": [
    "rest_nine_team_name=rest_nine_bowling_teams[0:9]"
   ]
  },
  {
   "cell_type": "code",
   "execution_count": null,
   "id": "5149917d",
   "metadata": {},
   "outputs": [],
   "source": [
    "rest_nine_team_name"
   ]
  },
  {
   "cell_type": "code",
   "execution_count": null,
   "id": "3f6adbac",
   "metadata": {},
   "outputs": [],
   "source": [
    "top_ten_odi_bowling_teams=banner_team_name+rest_nine_team_name"
   ]
  },
  {
   "cell_type": "code",
   "execution_count": null,
   "id": "fb7f79c4",
   "metadata": {},
   "outputs": [],
   "source": [
    "top_ten_odi_bowling_teams"
   ]
  },
  {
   "cell_type": "code",
   "execution_count": null,
   "id": "b846412c",
   "metadata": {},
   "outputs": [],
   "source": [
    "banner_bowler_rating=[]\n",
    "for i in soup5_c.find_all('div',class_=\"rankings-block__banner--rating\"):\n",
    "    banner_bowler_rating.append(i.text)"
   ]
  },
  {
   "cell_type": "code",
   "execution_count": null,
   "id": "a2a464a5",
   "metadata": {},
   "outputs": [],
   "source": [
    "banner_bowler_rating"
   ]
  },
  {
   "cell_type": "code",
   "execution_count": null,
   "id": "8abc5dad",
   "metadata": {},
   "outputs": [],
   "source": [
    "rest_bowler_rating=[]\n",
    "for i in soup5_c.find_all('td',class_=\"table-body__cell rating\"):\n",
    "    rest_bowler_rating.append(i.text)"
   ]
  },
  {
   "cell_type": "code",
   "execution_count": null,
   "id": "7a0b06c4",
   "metadata": {},
   "outputs": [],
   "source": [
    "top_nine_bowler_rating=rest_bowler_rating[0:9]"
   ]
  },
  {
   "cell_type": "code",
   "execution_count": null,
   "id": "6228d8fa",
   "metadata": {},
   "outputs": [],
   "source": [
    "top_nine_bowler_rating"
   ]
  },
  {
   "cell_type": "code",
   "execution_count": null,
   "id": "af30a857",
   "metadata": {},
   "outputs": [],
   "source": [
    "top_ten_bowler_rating=banner_bowler_rating+top_nine_bowler_rating"
   ]
  },
  {
   "cell_type": "code",
   "execution_count": null,
   "id": "056bcc82",
   "metadata": {},
   "outputs": [],
   "source": [
    "top_ten_bowler_rating"
   ]
  },
  {
   "cell_type": "code",
   "execution_count": null,
   "id": "8c33e9d7",
   "metadata": {},
   "outputs": [],
   "source": [
    "top_ten_ODI_bowlers=pd.DataFrame({\"Bowler_Names\":top_ten_odi_bowlers,\"Team_Name\":top_ten_odi_bowling_teams,\"Bowler_Rating\":top_ten_bowler_rating})"
   ]
  },
  {
   "cell_type": "code",
   "execution_count": null,
   "id": "2a61179e",
   "metadata": {},
   "outputs": [],
   "source": [
    "top_ten_ODI_bowlers"
   ]
  },
  {
   "cell_type": "code",
   "execution_count": null,
   "id": "70e6232f",
   "metadata": {},
   "outputs": [],
   "source": []
  },
  {
   "cell_type": "markdown",
   "id": "265f65b1",
   "metadata": {},
   "source": [
    "***###Answer No6(a)###***\n"
   ]
  },
  {
   "cell_type": "code",
   "execution_count": null,
   "id": "df46ea03",
   "metadata": {},
   "outputs": [],
   "source": [
    "import requests\n",
    "from bs4 import BeautifulSoup\n",
    "import pandas as pd"
   ]
  },
  {
   "cell_type": "code",
   "execution_count": null,
   "id": "2fde846a",
   "metadata": {},
   "outputs": [],
   "source": [
    "page6_a=requests.get('https://www.icc-cricket.com/rankings/womens/team-rankings/odi')"
   ]
  },
  {
   "cell_type": "code",
   "execution_count": null,
   "id": "a6d6e4d8",
   "metadata": {},
   "outputs": [],
   "source": [
    "soup6_a=BeautifulSoup(page6_a.content)"
   ]
  },
  {
   "cell_type": "code",
   "execution_count": null,
   "id": "7199691c",
   "metadata": {},
   "outputs": [],
   "source": [
    "women_team_name=[]\n",
    "for i in soup6_a.find_all('span',class_=\"u-hide-phablet\"):\n",
    "    women_team_name.append(i.text)"
   ]
  },
  {
   "cell_type": "code",
   "execution_count": null,
   "id": "d59e034b",
   "metadata": {},
   "outputs": [],
   "source": [
    "top_ten_women_team_names=women_team_name[0:10]"
   ]
  },
  {
   "cell_type": "code",
   "execution_count": null,
   "id": "844a000f",
   "metadata": {},
   "outputs": [],
   "source": [
    "len(top_ten_women_team_names)"
   ]
  },
  {
   "cell_type": "code",
   "execution_count": null,
   "id": "64a038c5",
   "metadata": {},
   "outputs": [],
   "source": [
    "top_ten_women_team_names"
   ]
  },
  {
   "cell_type": "code",
   "execution_count": null,
   "id": "b0cd550b",
   "metadata": {},
   "outputs": [],
   "source": [
    "women_team_matches=[]\n",
    "for i in soup6_a.find_all('td',class_=\"rankings-block__banner--matches\"):\n",
    "    women_team_matches.append(i.text)"
   ]
  },
  {
   "cell_type": "code",
   "execution_count": null,
   "id": "7b3e39c2",
   "metadata": {},
   "outputs": [],
   "source": [
    "women_team_matches"
   ]
  },
  {
   "cell_type": "code",
   "execution_count": null,
   "id": "7f2c6792",
   "metadata": {},
   "outputs": [],
   "source": [
    "rest_women_team=[]\n",
    "for i in soup6_a.find_all('td',class_=\"table-body__cell u-center-text\"):\n",
    "    rest_women_team.append(i.text)"
   ]
  },
  {
   "cell_type": "code",
   "execution_count": null,
   "id": "3f83c23d",
   "metadata": {},
   "outputs": [],
   "source": [
    "rest_women_team"
   ]
  },
  {
   "cell_type": "code",
   "execution_count": null,
   "id": "85c359f1",
   "metadata": {},
   "outputs": [],
   "source": [
    "len(rest_women_team)"
   ]
  },
  {
   "cell_type": "code",
   "execution_count": null,
   "id": "b295c737",
   "metadata": {},
   "outputs": [],
   "source": [
    "all_women_team_matches=[]\n",
    "all_women_team_points=[]\n",
    "b=0\n",
    "\n",
    "for i in rest_women_team:\n",
    "    if b==0 or b%2==0:\n",
    "        all_women_team_matches.append(rest_women_team[b])\n",
    "    elif b%2==1:\n",
    "        all_women_team_points.append(rest_women_team[b])\n",
    "    b+=1  \n",
    "    if b==25:\n",
    "        break"
   ]
  },
  {
   "cell_type": "code",
   "execution_count": null,
   "id": "bcb73241",
   "metadata": {},
   "outputs": [],
   "source": [
    "all_women_team_matches"
   ]
  },
  {
   "cell_type": "code",
   "execution_count": null,
   "id": "59c34f11",
   "metadata": {},
   "outputs": [],
   "source": [
    "len(all_women_team_matches)"
   ]
  },
  {
   "cell_type": "code",
   "execution_count": null,
   "id": "66abe16a",
   "metadata": {},
   "outputs": [],
   "source": [
    "top_ten_women_cricket_matches=women_team_matches+all_women_team_matches[0:9]"
   ]
  },
  {
   "cell_type": "code",
   "execution_count": null,
   "id": "c27906d2",
   "metadata": {},
   "outputs": [],
   "source": [
    "top_ten_women_cricket_matches"
   ]
  },
  {
   "cell_type": "code",
   "execution_count": null,
   "id": "82574289",
   "metadata": {},
   "outputs": [],
   "source": [
    "all_women_team_points"
   ]
  },
  {
   "cell_type": "code",
   "execution_count": null,
   "id": "152a888c",
   "metadata": {},
   "outputs": [],
   "source": [
    "len(all_women_team_points)"
   ]
  },
  {
   "cell_type": "code",
   "execution_count": null,
   "id": "66d49803",
   "metadata": {},
   "outputs": [],
   "source": [
    "women_team_points_banner=[]\n",
    "for i in soup6_a.find_all('td',class_=\"rankings-block__banner--points\"):\n",
    "    women_team_points_banner.append(i.text)"
   ]
  },
  {
   "cell_type": "code",
   "execution_count": null,
   "id": "e4c74709",
   "metadata": {},
   "outputs": [],
   "source": [
    "women_team_points_banner"
   ]
  },
  {
   "cell_type": "code",
   "execution_count": null,
   "id": "a45fcd8d",
   "metadata": {},
   "outputs": [],
   "source": [
    "divmod(10,2)"
   ]
  },
  {
   "cell_type": "code",
   "execution_count": null,
   "id": "1e942003",
   "metadata": {},
   "outputs": [],
   "source": [
    "top_ten_women_cricket_points=women_team_points_banner+all_women_team_points[0:9]"
   ]
  },
  {
   "cell_type": "code",
   "execution_count": null,
   "id": "b7e53b83",
   "metadata": {},
   "outputs": [],
   "source": [
    "top_ten_women_cricket_points"
   ]
  },
  {
   "cell_type": "code",
   "execution_count": null,
   "id": "aad1ff7a",
   "metadata": {},
   "outputs": [],
   "source": [
    "women_team_rating_banner=[]\n",
    "for i in soup6_a.find_all('td',class_=\"rankings-block__banner--rating u-text-right\"):\n",
    "    women_team_rating_banner.append(i.text.split(\"\\n\")[1].strip())"
   ]
  },
  {
   "cell_type": "code",
   "execution_count": null,
   "id": "62804e77",
   "metadata": {},
   "outputs": [],
   "source": [
    "women_team_rating_banner"
   ]
  },
  {
   "cell_type": "code",
   "execution_count": null,
   "id": "2af2bfc8",
   "metadata": {},
   "outputs": [],
   "source": [
    "rest_women_team_rating=[]\n",
    "for i in soup6_a.find_all('td',class_=\"table-body__cell u-text-right rating\"):\n",
    "    rest_women_team_rating.append(i.text)"
   ]
  },
  {
   "cell_type": "code",
   "execution_count": null,
   "id": "6755448d",
   "metadata": {},
   "outputs": [],
   "source": [
    "rest_women_team_rating"
   ]
  },
  {
   "cell_type": "code",
   "execution_count": null,
   "id": "4eb30e22",
   "metadata": {},
   "outputs": [],
   "source": [
    "len(rest_women_team_rating)"
   ]
  },
  {
   "cell_type": "code",
   "execution_count": null,
   "id": "5b6cf065",
   "metadata": {},
   "outputs": [],
   "source": [
    "top_ten_women_crcket_rating=women_team_rating_banner+rest_women_team_rating[0:9]"
   ]
  },
  {
   "cell_type": "code",
   "execution_count": null,
   "id": "fe814046",
   "metadata": {},
   "outputs": [],
   "source": [
    "top_ten_women_crcket_rating"
   ]
  },
  {
   "cell_type": "code",
   "execution_count": null,
   "id": "aa89dfd6",
   "metadata": {},
   "outputs": [],
   "source": [
    "len(top_ten_women_crcket_rating)"
   ]
  },
  {
   "cell_type": "code",
   "execution_count": null,
   "id": "4b5f0c66",
   "metadata": {},
   "outputs": [],
   "source": [
    "len(top_ten_women_cricket_points)"
   ]
  },
  {
   "cell_type": "code",
   "execution_count": null,
   "id": "be131fe7",
   "metadata": {},
   "outputs": [],
   "source": [
    "len(top_ten_women_cricket_matches)"
   ]
  },
  {
   "cell_type": "code",
   "execution_count": null,
   "id": "ea1030b2",
   "metadata": {},
   "outputs": [],
   "source": [
    "len(top_ten_women_team_names)"
   ]
  },
  {
   "cell_type": "code",
   "execution_count": null,
   "id": "d506ec20",
   "metadata": {},
   "outputs": [],
   "source": [
    "top_ten_women_ODI_team_matches_points_rating=pd.DataFrame({\"Women_Team_Name\":top_ten_women_team_names,\"Matches\":top_ten_women_cricket_matches,\"Points\":top_ten_women_cricket_points,\"Rating\":top_ten_women_crcket_rating})"
   ]
  },
  {
   "cell_type": "code",
   "execution_count": null,
   "id": "fb061792",
   "metadata": {},
   "outputs": [],
   "source": [
    "top_ten_women_ODI_team_matches_points_rating"
   ]
  },
  {
   "cell_type": "code",
   "execution_count": null,
   "id": "afee5a33",
   "metadata": {},
   "outputs": [],
   "source": []
  },
  {
   "cell_type": "markdown",
   "id": "e042d600",
   "metadata": {},
   "source": [
    "***###Answer No6(b)###***"
   ]
  },
  {
   "cell_type": "code",
   "execution_count": null,
   "id": "b519a5f2",
   "metadata": {},
   "outputs": [],
   "source": [
    "import requests\n",
    "from bs4 import BeautifulSoup\n",
    "import pandas as pd"
   ]
  },
  {
   "cell_type": "code",
   "execution_count": null,
   "id": "0ba05c7d",
   "metadata": {},
   "outputs": [],
   "source": [
    "page6_b=requests.get('https://www.icc-cricket.com/rankings/womens/player-rankings/odi/batting')"
   ]
  },
  {
   "cell_type": "code",
   "execution_count": null,
   "id": "095d2294",
   "metadata": {},
   "outputs": [],
   "source": [
    "soup6_b=BeautifulSoup(page6_b.content)"
   ]
  },
  {
   "cell_type": "code",
   "execution_count": null,
   "id": "4ecb80ec",
   "metadata": {},
   "outputs": [],
   "source": [
    "No_one_women_batting=[]\n",
    "for i in soup6_b.find_all('div',class_=\"rankings-block__banner--name-large\"):\n",
    "    No_one_women_batting.append(i.text)"
   ]
  },
  {
   "cell_type": "code",
   "execution_count": null,
   "id": "0e26b934",
   "metadata": {},
   "outputs": [],
   "source": [
    "No_one_women_batting"
   ]
  },
  {
   "cell_type": "code",
   "execution_count": null,
   "id": "4d71a034",
   "metadata": {},
   "outputs": [],
   "source": [
    "rest_women_batting=[]\n",
    "for i in soup6_b.find_all('td',class_=\"table-body__cell rankings-table__name name\"):\n",
    "    rest_women_batting.append(i.text.split(\"\\n\")[1])"
   ]
  },
  {
   "cell_type": "code",
   "execution_count": null,
   "id": "8140c000",
   "metadata": {},
   "outputs": [],
   "source": [
    "nine_women_batting_players=rest_women_batting[0:9]"
   ]
  },
  {
   "cell_type": "code",
   "execution_count": null,
   "id": "34fdfa29",
   "metadata": {},
   "outputs": [],
   "source": [
    "nine_women_batting_players"
   ]
  },
  {
   "cell_type": "code",
   "execution_count": null,
   "id": "f904e3f0",
   "metadata": {},
   "outputs": [],
   "source": [
    "top_ten_women_batting_players=No_one_women_batting+nine_women_batting_players"
   ]
  },
  {
   "cell_type": "code",
   "execution_count": null,
   "id": "34c4960f",
   "metadata": {},
   "outputs": [],
   "source": [
    "No_one_women_batting_country=[]\n",
    "for i in soup6_b.find_all('div',class_=\"rankings-block__banner--nationality\"):\n",
    "    No_one_women_batting_country.append(i.text.split(\"\\n\")[2])"
   ]
  },
  {
   "cell_type": "code",
   "execution_count": null,
   "id": "2d140ae5",
   "metadata": {},
   "outputs": [],
   "source": [
    "No_one_women_batting_country"
   ]
  },
  {
   "cell_type": "code",
   "execution_count": null,
   "id": "d5d220a6",
   "metadata": {},
   "outputs": [],
   "source": [
    "rest_women_batting_country=[]\n",
    "for i in soup6_b.find_all('span',class_=\"table-body__logo-text\"):\n",
    "    rest_women_batting_country.append(i.text)"
   ]
  },
  {
   "cell_type": "code",
   "execution_count": null,
   "id": "e1777884",
   "metadata": {},
   "outputs": [],
   "source": [
    "nine_women_batting_countries=rest_women_batting_country[0:9]"
   ]
  },
  {
   "cell_type": "code",
   "execution_count": null,
   "id": "d16ad095",
   "metadata": {},
   "outputs": [],
   "source": [
    "nine_women_batting_countries"
   ]
  },
  {
   "cell_type": "code",
   "execution_count": null,
   "id": "a80ad328",
   "metadata": {},
   "outputs": [],
   "source": [
    "top_ten_women_batting_players_countries=No_one_women_batting_country+nine_women_batting_countries"
   ]
  },
  {
   "cell_type": "code",
   "execution_count": null,
   "id": "9c1baa02",
   "metadata": {},
   "outputs": [],
   "source": [
    "top_ten_women_batting_players_countries"
   ]
  },
  {
   "cell_type": "code",
   "execution_count": null,
   "id": "bdb1ed86",
   "metadata": {},
   "outputs": [],
   "source": [
    "No_one_women_batting_rating=[]\n",
    "for i in soup6_b.find_all('div',class_=\"rankings-block__banner--rating\"):\n",
    "    No_one_women_batting_rating.append(i.text)"
   ]
  },
  {
   "cell_type": "code",
   "execution_count": null,
   "id": "eb2de768",
   "metadata": {},
   "outputs": [],
   "source": [
    "No_one_women_batting_rating"
   ]
  },
  {
   "cell_type": "code",
   "execution_count": null,
   "id": "c289a43b",
   "metadata": {},
   "outputs": [],
   "source": [
    "rest_women_batting_rating=[]\n",
    "for i in soup6_b.find_all('td',class_=\"table-body__cell rating\"):\n",
    "    rest_women_batting_rating.append(i.text)"
   ]
  },
  {
   "cell_type": "code",
   "execution_count": null,
   "id": "9deaa7f1",
   "metadata": {},
   "outputs": [],
   "source": [
    "nine_women_batting_rating=rest_women_batting_rating[0:9]"
   ]
  },
  {
   "cell_type": "code",
   "execution_count": null,
   "id": "d60b1fc4",
   "metadata": {},
   "outputs": [],
   "source": [
    "nine_women_batting_rating"
   ]
  },
  {
   "cell_type": "code",
   "execution_count": null,
   "id": "db8ce112",
   "metadata": {},
   "outputs": [],
   "source": [
    "top_ten_women_batting_rating=No_one_women_batting_rating+nine_women_batting_rating"
   ]
  },
  {
   "cell_type": "code",
   "execution_count": null,
   "id": "db689709",
   "metadata": {},
   "outputs": [],
   "source": [
    "top_ten_women_batting_rating"
   ]
  },
  {
   "cell_type": "code",
   "execution_count": null,
   "id": "1d25c591",
   "metadata": {},
   "outputs": [],
   "source": [
    "Top_Ten_Women_batting_Players_country_rating=pd.DataFrame({\"Women_Batting_Players\":top_ten_women_batting_players,\"Team_Name\":top_ten_women_batting_players_countries,\"Rating\":top_ten_women_batting_rating})"
   ]
  },
  {
   "cell_type": "code",
   "execution_count": null,
   "id": "6d4bcb09",
   "metadata": {},
   "outputs": [],
   "source": [
    "Top_Ten_Women_batting_Players_country_rating"
   ]
  },
  {
   "cell_type": "code",
   "execution_count": null,
   "id": "1be94d9c",
   "metadata": {},
   "outputs": [],
   "source": []
  },
  {
   "cell_type": "markdown",
   "id": "fdf6433a",
   "metadata": {},
   "source": [
    "***###Answer No6(c)###***"
   ]
  },
  {
   "cell_type": "code",
   "execution_count": null,
   "id": "10825bac",
   "metadata": {},
   "outputs": [],
   "source": [
    "import requests\n",
    "from bs4 import BeautifulSoup\n",
    "import pandas as pd"
   ]
  },
  {
   "cell_type": "code",
   "execution_count": null,
   "id": "4055eb88",
   "metadata": {},
   "outputs": [],
   "source": [
    "page6_c=requests.get('https://www.icc-cricket.com/rankings/womens/player-rankings/odi/all-rounder')"
   ]
  },
  {
   "cell_type": "code",
   "execution_count": null,
   "id": "9456680c",
   "metadata": {},
   "outputs": [],
   "source": [
    "soup6_c=BeautifulSoup(page6_c.content)"
   ]
  },
  {
   "cell_type": "code",
   "execution_count": null,
   "id": "54361277",
   "metadata": {},
   "outputs": [],
   "source": [
    "No_one_women_allrounder=[]\n",
    "for i in soup6_c.find_all('div',class_=\"rankings-block__banner--name-large\"):\n",
    "    No_one_women_allrounder.append(i.text)"
   ]
  },
  {
   "cell_type": "code",
   "execution_count": null,
   "id": "63b37718",
   "metadata": {},
   "outputs": [],
   "source": [
    "No_one_women_allrounder"
   ]
  },
  {
   "cell_type": "code",
   "execution_count": null,
   "id": "31eaea70",
   "metadata": {},
   "outputs": [],
   "source": [
    "rest_women_allrounder=[]\n",
    "for i in soup6_c.find_all('td',class_=\"table-body__cell rankings-table__name name\"):\n",
    "    rest_women_allrounder.append(i.text.split(\"\\n\")[1])"
   ]
  },
  {
   "cell_type": "code",
   "execution_count": null,
   "id": "2ce99d53",
   "metadata": {},
   "outputs": [],
   "source": [
    "nine_allrounders=rest_women_allrounder[0:9]"
   ]
  },
  {
   "cell_type": "code",
   "execution_count": null,
   "id": "dad33646",
   "metadata": {},
   "outputs": [],
   "source": [
    "nine_allrounders"
   ]
  },
  {
   "cell_type": "code",
   "execution_count": null,
   "id": "57b2b7a3",
   "metadata": {},
   "outputs": [],
   "source": [
    "top_ten_women_allrounder=No_one_women_allrounder+nine_allrounders"
   ]
  },
  {
   "cell_type": "code",
   "execution_count": null,
   "id": "a5f06a81",
   "metadata": {},
   "outputs": [],
   "source": [
    "top_ten_women_allrounder"
   ]
  },
  {
   "cell_type": "code",
   "execution_count": null,
   "id": "7071a1c1",
   "metadata": {},
   "outputs": [],
   "source": [
    "no_one_allrounder_team=[]\n",
    "for i in soup6_c.find_all('div',class_=\"rankings-block__banner--nationality\"):\n",
    "    no_one_allrounder_team.append(i.text.split(\"\\n\")[2])"
   ]
  },
  {
   "cell_type": "code",
   "execution_count": null,
   "id": "f286405f",
   "metadata": {},
   "outputs": [],
   "source": [
    "no_one_allrounder_team"
   ]
  },
  {
   "cell_type": "code",
   "execution_count": null,
   "id": "c7f997a8",
   "metadata": {},
   "outputs": [],
   "source": [
    "rest_allrounder_teams=[]\n",
    "for i in soup6_c.find_all('span',class_=\"table-body__logo-text\"):\n",
    "    rest_allrounder_teams.append(i.text)"
   ]
  },
  {
   "cell_type": "code",
   "execution_count": null,
   "id": "d8697f08",
   "metadata": {},
   "outputs": [],
   "source": [
    "nine_alrounder_teams=rest_allrounder_teams[0:9]"
   ]
  },
  {
   "cell_type": "code",
   "execution_count": null,
   "id": "96e406d2",
   "metadata": {},
   "outputs": [],
   "source": [
    "nine_alrounder_teams"
   ]
  },
  {
   "cell_type": "code",
   "execution_count": null,
   "id": "9d0e386b",
   "metadata": {},
   "outputs": [],
   "source": [
    "top_ten_allrounder_teams=no_one_allrounder_team+nine_alrounder_teams"
   ]
  },
  {
   "cell_type": "code",
   "execution_count": null,
   "id": "5368f73a",
   "metadata": {},
   "outputs": [],
   "source": [
    "top_ten_allrounder_teams"
   ]
  },
  {
   "cell_type": "code",
   "execution_count": null,
   "id": "1f8b89e4",
   "metadata": {},
   "outputs": [],
   "source": [
    "no_one_allrounder_rating=[]\n",
    "for i in soup6_c.find_all('div',class_=\"rankings-block__banner--rating\"):\n",
    "    no_one_allrounder_rating.append(i.text)"
   ]
  },
  {
   "cell_type": "code",
   "execution_count": null,
   "id": "6741433d",
   "metadata": {},
   "outputs": [],
   "source": [
    "no_one_allrounder_rating"
   ]
  },
  {
   "cell_type": "code",
   "execution_count": null,
   "id": "04bf7042",
   "metadata": {},
   "outputs": [],
   "source": [
    "rest_allrounder_rating=[]\n",
    "for i in soup6_c.find_all('td',class_=\"table-body__cell rating\"):\n",
    "    rest_allrounder_rating.append(i.text)"
   ]
  },
  {
   "cell_type": "code",
   "execution_count": null,
   "id": "4daf9f94",
   "metadata": {},
   "outputs": [],
   "source": [
    "nine_allrounder_ratings=rest_allrounder_rating[0:9]"
   ]
  },
  {
   "cell_type": "code",
   "execution_count": null,
   "id": "c09d570b",
   "metadata": {},
   "outputs": [],
   "source": [
    "len(nine_allrounder_ratings)"
   ]
  },
  {
   "cell_type": "code",
   "execution_count": null,
   "id": "90678b92",
   "metadata": {},
   "outputs": [],
   "source": [
    "top_ten_alrounder_ratings=no_one_allrounder_rating+nine_allrounder_ratings"
   ]
  },
  {
   "cell_type": "code",
   "execution_count": null,
   "id": "2acf1a0d",
   "metadata": {},
   "outputs": [],
   "source": [
    "len(top_ten_alrounder_ratings)"
   ]
  },
  {
   "cell_type": "code",
   "execution_count": null,
   "id": "a26d7790",
   "metadata": {},
   "outputs": [],
   "source": [
    "top_ten_allrounder_player_team_rating=pd.DataFrame({\"Top_Ten_Women_Allrounders\":top_ten_women_allrounder,\"Team_Name\":top_ten_allrounder_teams,\"Rating\":top_ten_alrounder_ratings})"
   ]
  },
  {
   "cell_type": "code",
   "execution_count": null,
   "id": "5f651cca",
   "metadata": {},
   "outputs": [],
   "source": [
    "top_ten_allrounder_player_team_rating"
   ]
  },
  {
   "cell_type": "code",
   "execution_count": null,
   "id": "63f434cf",
   "metadata": {},
   "outputs": [],
   "source": []
  },
  {
   "cell_type": "markdown",
   "id": "eec15dd2",
   "metadata": {},
   "source": [
    "***###Answer No7 ###***"
   ]
  },
  {
   "cell_type": "code",
   "execution_count": null,
   "id": "15b5d1b9",
   "metadata": {},
   "outputs": [],
   "source": [
    "import requests\n",
    "from bs4 import BeautifulSoup\n",
    "import pandas as pd"
   ]
  },
  {
   "cell_type": "code",
   "execution_count": null,
   "id": "ad96b275",
   "metadata": {},
   "outputs": [],
   "source": [
    "page7=requests.get('https://www.cnbc.com/world/?region=world')"
   ]
  },
  {
   "cell_type": "code",
   "execution_count": null,
   "id": "182d2f12",
   "metadata": {},
   "outputs": [],
   "source": [
    "soup7=BeautifulSoup(page7.content)"
   ]
  },
  {
   "cell_type": "code",
   "execution_count": null,
   "id": "c71c783b",
   "metadata": {},
   "outputs": [],
   "source": [
    "headlines=[]\n",
    "for i in soup7.find_all('div',class_=\"RiverHeadline-headline RiverHeadline-hasThumbnail\"):\n",
    "    headlines.append(i.text)"
   ]
  },
  {
   "cell_type": "markdown",
   "id": "7ecd154a",
   "metadata": {},
   "source": [
    "***###Answer No7(a) ###***"
   ]
  },
  {
   "cell_type": "code",
   "execution_count": null,
   "id": "608a8db4",
   "metadata": {},
   "outputs": [],
   "source": [
    "headlines"
   ]
  },
  {
   "cell_type": "code",
   "execution_count": null,
   "id": "11b42105",
   "metadata": {},
   "outputs": [],
   "source": [
    "time=[]\n",
    "for i in soup7.find_all('span',class_=\"RiverByline-datePublished\"):\n",
    "    time.append(i.text)"
   ]
  },
  {
   "cell_type": "markdown",
   "id": "140af738",
   "metadata": {},
   "source": [
    "***###Answer No7(b) ###***"
   ]
  },
  {
   "cell_type": "code",
   "execution_count": null,
   "id": "9c58d030",
   "metadata": {},
   "outputs": [],
   "source": [
    "time"
   ]
  },
  {
   "cell_type": "code",
   "execution_count": null,
   "id": "e5573b32",
   "metadata": {},
   "outputs": [],
   "source": [
    "len(headlines)\n"
   ]
  },
  {
   "cell_type": "code",
   "execution_count": null,
   "id": "bce82007",
   "metadata": {},
   "outputs": [],
   "source": [
    "len(time)"
   ]
  },
  {
   "cell_type": "markdown",
   "id": "837af8bf",
   "metadata": {},
   "source": [
    "***###Answer No7(c) ###***"
   ]
  },
  {
   "cell_type": "code",
   "execution_count": null,
   "id": "2282469c",
   "metadata": {},
   "outputs": [],
   "source": [
    "links = []\n",
    "for link in soup7.findAll('a'):\n",
    "    links.append(link.get('href'))"
   ]
  },
  {
   "cell_type": "code",
   "execution_count": null,
   "id": "e9ac64e8",
   "metadata": {},
   "outputs": [],
   "source": [
    "links "
   ]
  },
  {
   "cell_type": "code",
   "execution_count": null,
   "id": "b9fc7779",
   "metadata": {},
   "outputs": [],
   "source": [
    "\n",
    "l=soup7.find('div',class_=\"RiverHeadline-headline RiverHeadline-hasThumbnail\")\n"
   ]
  },
  {
   "cell_type": "code",
   "execution_count": null,
   "id": "68cac98c",
   "metadata": {},
   "outputs": [],
   "source": [
    "l"
   ]
  },
  {
   "cell_type": "code",
   "execution_count": null,
   "id": "28050d6c",
   "metadata": {},
   "outputs": [],
   "source": [
    "#class=\"RiverHeadline-headline RiverHeadline-hasThumbnail\""
   ]
  },
  {
   "cell_type": "code",
   "execution_count": null,
   "id": "d68649db",
   "metadata": {},
   "outputs": [],
   "source": [
    "l.get_text()"
   ]
  },
  {
   "cell_type": "code",
   "execution_count": null,
   "id": "74810e4a",
   "metadata": {},
   "outputs": [],
   "source": [
    "l.text"
   ]
  },
  {
   "cell_type": "code",
   "execution_count": null,
   "id": "4b24f01b",
   "metadata": {},
   "outputs": [],
   "source": [
    "l.a['href']"
   ]
  },
  {
   "cell_type": "code",
   "execution_count": null,
   "id": "cc0ee3cc",
   "metadata": {},
   "outputs": [],
   "source": [
    "news_links=[]\n",
    "for link in soup7.find_all('a'):\n",
    "    news_links.append(link)\n"
   ]
  },
  {
   "cell_type": "code",
   "execution_count": null,
   "id": "bebe5b0e",
   "metadata": {},
   "outputs": [],
   "source": [
    "news_links"
   ]
  },
  {
   "cell_type": "code",
   "execution_count": null,
   "id": "cdaa5b56",
   "metadata": {},
   "outputs": [],
   "source": [
    "link_news=[]\n",
    "for link in soup.findAll('a'):\n",
    "    print link.get('href')"
   ]
  },
  {
   "cell_type": "code",
   "execution_count": null,
   "id": "033f07e3",
   "metadata": {},
   "outputs": [],
   "source": []
  },
  {
   "cell_type": "code",
   "execution_count": null,
   "id": "f3ca3f39",
   "metadata": {},
   "outputs": [],
   "source": [
    "\n",
    "soup7_1 = BeautifulSoup(page7.content)\n",
    "for link in soup7_1.find_all('a'):\n",
    "    print(link.get('href'))"
   ]
  },
  {
   "cell_type": "code",
   "execution_count": null,
   "id": "df8256e9",
   "metadata": {},
   "outputs": [],
   "source": []
  },
  {
   "cell_type": "markdown",
   "id": "3f2c5229",
   "metadata": {},
   "source": [
    "***###Answer No8 ###***"
   ]
  },
  {
   "cell_type": "code",
   "execution_count": null,
   "id": "4e08e047",
   "metadata": {},
   "outputs": [],
   "source": [
    "import requests\n",
    "from bs4 import BeautifulSoup\n",
    "import pandas as pd"
   ]
  },
  {
   "cell_type": "code",
   "execution_count": null,
   "id": "c559d8c7",
   "metadata": {},
   "outputs": [],
   "source": [
    "page8=requests.get('https://www.journals.elsevier.com/artificial-intelligence/most-downloaded-articles')"
   ]
  },
  {
   "cell_type": "code",
   "execution_count": null,
   "id": "dd6e15e1",
   "metadata": {},
   "outputs": [],
   "source": [
    "soup8=BeautifulSoup(page8.content)"
   ]
  },
  {
   "cell_type": "code",
   "execution_count": null,
   "id": "f9958074",
   "metadata": {},
   "outputs": [],
   "source": [
    "paper_title=[]\n",
    "for i in soup8.find_all('h2',class_=\"sc-1qrq3sd-1 gRGSUS sc-1nmom32-0 sc-1nmom32-1 btcbYu goSKRg\"):\n",
    "    paper_title.append(i.text)"
   ]
  },
  {
   "cell_type": "code",
   "execution_count": null,
   "id": "dea579a0",
   "metadata": {},
   "outputs": [],
   "source": [
    "paper_title"
   ]
  },
  {
   "cell_type": "code",
   "execution_count": null,
   "id": "3abe80b0",
   "metadata": {},
   "outputs": [],
   "source": [
    "author_name=[]\n",
    "for i in soup8.find_all('span',class_=\"sc-1w3fpd7-0 dnCnAO\"):\n",
    "    author_name.append(i.text)"
   ]
  },
  {
   "cell_type": "code",
   "execution_count": null,
   "id": "e1dffe67",
   "metadata": {},
   "outputs": [],
   "source": [
    "author_name"
   ]
  },
  {
   "cell_type": "code",
   "execution_count": null,
   "id": "06173cab",
   "metadata": {},
   "outputs": [],
   "source": [
    "pubished_date=[]\n",
    "for i in soup8.find_all('span',class_=\"sc-1thf9ly-2 dvggWt\"):\n",
    "    pubished_date.append(i.text)"
   ]
  },
  {
   "cell_type": "code",
   "execution_count": null,
   "id": "eef827fc",
   "metadata": {},
   "outputs": [],
   "source": [
    "pubished_date"
   ]
  },
  {
   "cell_type": "code",
   "execution_count": null,
   "id": "f9a246f4",
   "metadata": {},
   "outputs": [],
   "source": [
    "paper_url=[]\n",
    "for link in soup8.findAll('a',class_=\"sc-5smygv-0 fIXTHm\"):\n",
    "    paper_url.append(link.get('href'))"
   ]
  },
  {
   "cell_type": "code",
   "execution_count": null,
   "id": "edb97692",
   "metadata": {},
   "outputs": [],
   "source": [
    "paper_url"
   ]
  },
  {
   "cell_type": "code",
   "execution_count": null,
   "id": "961bf36a",
   "metadata": {},
   "outputs": [],
   "source": []
  },
  {
   "cell_type": "markdown",
   "id": "34cc4c6f",
   "metadata": {},
   "source": [
    "***###Answer No9 ###***"
   ]
  },
  {
   "cell_type": "code",
   "execution_count": null,
   "id": "f15bdcc4",
   "metadata": {},
   "outputs": [],
   "source": [
    "import requests\n",
    "from bs4 import BeautifulSoup\n",
    "import pandas as pd"
   ]
  },
  {
   "cell_type": "code",
   "execution_count": null,
   "id": "060a24a3",
   "metadata": {},
   "outputs": [],
   "source": [
    "page9=requests.get('https://www.dineout.co.in/hyderabad-restaurants/dineout-pay')"
   ]
  },
  {
   "cell_type": "code",
   "execution_count": null,
   "id": "3550cde6",
   "metadata": {},
   "outputs": [],
   "source": [
    "soup9=BeautifulSoup(page9.content)"
   ]
  },
  {
   "cell_type": "code",
   "execution_count": null,
   "id": "6594fef0",
   "metadata": {},
   "outputs": [],
   "source": [
    "retaurant_names=[]\n",
    "for i in soup9.find_all('a',class_=\"restnt-name ellipsis\"):\n",
    "    retaurant_names.append(i.text)"
   ]
  },
  {
   "cell_type": "code",
   "execution_count": null,
   "id": "573a2cfe",
   "metadata": {},
   "outputs": [],
   "source": [
    "retaurant_names"
   ]
  },
  {
   "cell_type": "code",
   "execution_count": null,
   "id": "711b5fbd",
   "metadata": {},
   "outputs": [],
   "source": [
    "cuisine_name=[]\n",
    "for i in soup9.find_all('span',class_=\"double-line-ellipsis\"):\n",
    "    cuisine_name.append(i.text.split(\"|\")[1])"
   ]
  },
  {
   "cell_type": "code",
   "execution_count": null,
   "id": "71fadfed",
   "metadata": {},
   "outputs": [],
   "source": [
    "cuisine_name"
   ]
  },
  {
   "cell_type": "code",
   "execution_count": null,
   "id": "b5849c8c",
   "metadata": {},
   "outputs": [],
   "source": [
    "location_name=[]\n",
    "for i in soup9.find_all('div',class_=\"restnt-loc ellipsis\"):\n",
    "    location_name.append(i.text)"
   ]
  },
  {
   "cell_type": "code",
   "execution_count": null,
   "id": "bb81c33a",
   "metadata": {},
   "outputs": [],
   "source": [
    "location_name"
   ]
  },
  {
   "cell_type": "code",
   "execution_count": null,
   "id": "65a4c01d",
   "metadata": {},
   "outputs": [],
   "source": [
    "restaurant_rating=[]\n",
    "for i in soup9.find_all('div',class_=\"restnt-rating rating-4\"):\n",
    "    restaurant_rating.append(i.text)"
   ]
  },
  {
   "cell_type": "code",
   "execution_count": null,
   "id": "b1828eeb",
   "metadata": {},
   "outputs": [],
   "source": [
    "restaurant_rating"
   ]
  },
  {
   "cell_type": "code",
   "execution_count": null,
   "id": "4bbf870d",
   "metadata": {},
   "outputs": [],
   "source": [
    "image_url=[]\n",
    "for link in soup9.findAll('img',class_=\"no-img\"):\n",
    "    image_url.append(link.get('data-src'))"
   ]
  },
  {
   "cell_type": "code",
   "execution_count": null,
   "id": "d5654787",
   "metadata": {},
   "outputs": [],
   "source": [
    "image_url"
   ]
  },
  {
   "cell_type": "code",
   "execution_count": null,
   "id": "38040b8e",
   "metadata": {},
   "outputs": [],
   "source": []
  },
  {
   "cell_type": "markdown",
   "id": "2683fed9",
   "metadata": {},
   "source": [
    "***###Answer No10 ###***"
   ]
  },
  {
   "cell_type": "code",
   "execution_count": null,
   "id": "c39903a7",
   "metadata": {},
   "outputs": [],
   "source": [
    "import requests\n",
    "from bs4 import BeautifulSoup\n",
    "import pandas as pd"
   ]
  },
  {
   "cell_type": "code",
   "execution_count": null,
   "id": "d2a1282c",
   "metadata": {},
   "outputs": [],
   "source": [
    "page10=requests.get('https://scholar.google.com/citations?view_op=top_venues&hl=en')"
   ]
  },
  {
   "cell_type": "code",
   "execution_count": null,
   "id": "69ab4586",
   "metadata": {},
   "outputs": [],
   "source": [
    "soup10=BeautifulSoup(page10.content)"
   ]
  },
  {
   "cell_type": "code",
   "execution_count": null,
   "id": "862649c1",
   "metadata": {},
   "outputs": [],
   "source": [
    "ranking=[]\n",
    "for i in soup10.find_all('td',class_=\"gsc_mvt_p\"):\n",
    "    ranking.append(i.text)"
   ]
  },
  {
   "cell_type": "code",
   "execution_count": null,
   "id": "49e3804c",
   "metadata": {},
   "outputs": [],
   "source": [
    "ranking"
   ]
  },
  {
   "cell_type": "code",
   "execution_count": null,
   "id": "f218bd12",
   "metadata": {},
   "outputs": [],
   "source": [
    "j=soup10.find_all('div')"
   ]
  },
  {
   "cell_type": "code",
   "execution_count": null,
   "id": "2dfe8337",
   "metadata": {},
   "outputs": [],
   "source": [
    "j"
   ]
  },
  {
   "cell_type": "code",
   "execution_count": null,
   "id": "1e9af845",
   "metadata": {},
   "outputs": [],
   "source": []
  }
 ],
 "metadata": {
  "kernelspec": {
   "display_name": "Python 3 (ipykernel)",
   "language": "python",
   "name": "python3"
  },
  "language_info": {
   "codemirror_mode": {
    "name": "ipython",
    "version": 3
   },
   "file_extension": ".py",
   "mimetype": "text/x-python",
   "name": "python",
   "nbconvert_exporter": "python",
   "pygments_lexer": "ipython3",
   "version": "3.9.12"
  }
 },
 "nbformat": 4,
 "nbformat_minor": 5
}
